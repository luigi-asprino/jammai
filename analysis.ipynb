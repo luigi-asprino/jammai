{
 "cells": [
  {
   "cell_type": "code",
   "execution_count": 1,
   "metadata": {},
   "outputs": [],
   "source": [
    "from pycsp3 import *\n",
    "import pandas as pd\n",
    "from mido import MidiFile\n",
    "import itertools\n",
    "\n",
    "df = pd.read_csv('dataset/commu_meta_with_duration.csv')"
   ]
  }
 ],
 "metadata": {
  "kernelspec": {
   "display_name": "musgen",
   "language": "python",
   "name": "python3"
  },
  "language_info": {
   "codemirror_mode": {
    "name": "ipython",
    "version": 3
   },
   "file_extension": ".py",
   "mimetype": "text/x-python",
   "name": "python",
   "nbconvert_exporter": "python",
   "pygments_lexer": "ipython3",
   "version": "3.9.19"
  }
 },
 "nbformat": 4,
 "nbformat_minor": 2
}
