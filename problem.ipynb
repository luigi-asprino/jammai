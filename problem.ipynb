{
 "cells": [
  {
   "cell_type": "code",
   "execution_count": null,
   "metadata": {},
   "outputs": [],
   "source": [
    "from pycsp3 import *\n",
    "import pandas as pd\n",
    "from mido import MidiFile\n",
    "import itertools\n",
    "\n",
    "df = pd.read_csv('dataset/commu_meta_with_duration.csv')"
   ]
  }
 ],
 "metadata": {
  "language_info": {
   "name": "python"
  }
 },
 "nbformat": 4,
 "nbformat_minor": 2
}
