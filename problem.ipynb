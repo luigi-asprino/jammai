{
 "cells": [
  {
   "cell_type": "code",
   "execution_count": 1,
   "metadata": {},
   "outputs": [],
   "source": [
    "#from functions import *"
   ]
  },
  {
   "cell_type": "code",
   "execution_count": 2,
   "metadata": {},
   "outputs": [],
   "source": [
    "from pycsp3 import *\n",
    "import pandas as pd\n",
    "from mido import MidiFile\n",
    "import itertools"
   ]
  },
  {
   "cell_type": "code",
   "execution_count": null,
   "metadata": {},
   "outputs": [],
   "source": [
    "def reduce_inst(inst_id):\n",
    "    return inst_id[:inst_id.index(\"-\")] if \"-\" in inst_id else inst_id\n",
    "\n",
    "def to_inst_id(instruments, instrument):\n",
    "    return instruments.index(reduce_inst(instrument)) + 1\n",
    "\n",
    "def get_domain_from_track_role(df, track_role):\n",
    "    return list(df[df[\"track_role\"]==track_role].id.unique())\n",
    "\n",
    "# Create commu_id to num_measures correspondence\n",
    "def get_num_measures_correspondence(df, track_role):\n",
    "    return {\n",
    "        (row[\"id\"], int(row[\"num_measures\"]))\n",
    "        for index, row in df[df[\"track_role\"] == track_role].iterrows()\n",
    "    }\n",
    "\n",
    "def get_num_measures_array(df, ids):\n",
    "    result = [None] * len(ids)\n",
    "    for index, commu_id in enumerate(ids):\n",
    "        result[index] = int(df[df[\"id\"]==commu_id].num_measures)\n",
    "    return result\n",
    "\n",
    "def get_instrument_array(df, ids, instruments):\n",
    "    result = [None] * len(ids)\n",
    "    for index, commu_id in enumerate(ids):\n",
    "        result[index] = to_inst_id(instruments, str(df[df[\"id\"]==commu_id].inst.values[0]))\n",
    "    return result"
   ]
  },
  {
   "cell_type": "code",
   "execution_count": null,
   "metadata": {},
   "outputs": [],
   "source": [
    "df = pd.read_csv('dataset/commu_meta_with_duration.csv')"
   ]
  },
  {
   "cell_type": "code",
   "execution_count": 3,
   "metadata": {},
   "outputs": [
    {
     "name": "stdout",
     "output_type": "stream",
     "text": [
      "Instruments reduced from 130 to 38\n"
     ]
    }
   ],
   "source": [
    "instruments = {reduce_inst(inst) for inst in df.inst.unique()}\n",
    "print(f\"Instruments reduced from {len(df.inst.unique())} to {len(instruments)}\")"
   ]
  },
  {
   "cell_type": "code",
   "execution_count": 4,
   "metadata": {},
   "outputs": [],
   "source": [
    "\n",
    "# Parameters\n",
    "\n",
    "# Tracks must have a number of samples equals to 2/4/8 (usually a multiple of 4)\n",
    "number_of_samples_per_track = 4\n",
    "\n",
    "# Sample can be repeated 0, 1 or 2 times in a segment to match the number of measures of the samples in the other tracks\n",
    "sample_repetitions = {0, 1, 2}\n",
    "\n",
    "num_measures = [int(m) for m in df.num_measures.unique()]"
   ]
  },
  {
   "cell_type": "code",
   "execution_count": 5,
   "metadata": {},
   "outputs": [],
   "source": [
    "# Possibly filter rows by bpm, genre etc.\n",
    "df = df[df[\"time_signature\"]==\"4/4\"]"
   ]
  },
  {
   "cell_type": "code",
   "execution_count": 6,
   "metadata": {},
   "outputs": [
    {
     "ename": "AttributeError",
     "evalue": "'set' object has no attribute 'index'",
     "output_type": "error",
     "traceback": [
      "\u001b[0;31m---------------------------------------------------------------------------\u001b[0m",
      "\u001b[0;31mAttributeError\u001b[0m                            Traceback (most recent call last)",
      "Cell \u001b[0;32mIn[6], line 3\u001b[0m\n\u001b[1;32m      1\u001b[0m main_melody_ids \u001b[38;5;241m=\u001b[39m get_domain_from_track_role(df, \u001b[38;5;124m\"\u001b[39m\u001b[38;5;124mmain_melody\u001b[39m\u001b[38;5;124m\"\u001b[39m)\n\u001b[1;32m      2\u001b[0m main_melody_num_measures \u001b[38;5;241m=\u001b[39m get_num_measures_array(df, main_melody_ids)\n\u001b[0;32m----> 3\u001b[0m main_melody_instruments \u001b[38;5;241m=\u001b[39m \u001b[43mget_instrument_array\u001b[49m\u001b[43m(\u001b[49m\u001b[43mdf\u001b[49m\u001b[43m,\u001b[49m\u001b[43m \u001b[49m\u001b[43mmain_melody_ids\u001b[49m\u001b[43m,\u001b[49m\u001b[43m \u001b[49m\u001b[43minstruments\u001b[49m\u001b[43m)\u001b[49m\n\u001b[1;32m      5\u001b[0m accompaniment_ids \u001b[38;5;241m=\u001b[39m get_domain_from_track_role(df, \u001b[38;5;124m\"\u001b[39m\u001b[38;5;124maccompaniment\u001b[39m\u001b[38;5;124m\"\u001b[39m)\n\u001b[1;32m      6\u001b[0m accompaniment_num_measures \u001b[38;5;241m=\u001b[39m get_num_measures_array(df, accompaniment_ids)\n",
      "File \u001b[0;32m~/workspace/musicgeneration/jammai/functions.py:26\u001b[0m, in \u001b[0;36mget_instrument_array\u001b[0;34m(df, ids, instruments)\u001b[0m\n\u001b[1;32m     24\u001b[0m result \u001b[38;5;241m=\u001b[39m [\u001b[38;5;28;01mNone\u001b[39;00m] \u001b[38;5;241m*\u001b[39m \u001b[38;5;28mlen\u001b[39m(ids)\n\u001b[1;32m     25\u001b[0m \u001b[38;5;28;01mfor\u001b[39;00m index, commu_id \u001b[38;5;129;01min\u001b[39;00m \u001b[38;5;28menumerate\u001b[39m(ids):\n\u001b[0;32m---> 26\u001b[0m     result[index] \u001b[38;5;241m=\u001b[39m \u001b[43mto_inst_id\u001b[49m\u001b[43m(\u001b[49m\u001b[43minstruments\u001b[49m\u001b[43m,\u001b[49m\u001b[43m \u001b[49m\u001b[38;5;28;43mstr\u001b[39;49m\u001b[43m(\u001b[49m\u001b[43mdf\u001b[49m\u001b[43m[\u001b[49m\u001b[43mdf\u001b[49m\u001b[43m[\u001b[49m\u001b[38;5;124;43m\"\u001b[39;49m\u001b[38;5;124;43mid\u001b[39;49m\u001b[38;5;124;43m\"\u001b[39;49m\u001b[43m]\u001b[49m\u001b[38;5;241;43m==\u001b[39;49m\u001b[43mcommu_id\u001b[49m\u001b[43m]\u001b[49m\u001b[38;5;241;43m.\u001b[39;49m\u001b[43minst\u001b[49m\u001b[38;5;241;43m.\u001b[39;49m\u001b[43mvalues\u001b[49m\u001b[43m[\u001b[49m\u001b[38;5;241;43m0\u001b[39;49m\u001b[43m]\u001b[49m\u001b[43m)\u001b[49m\u001b[43m)\u001b[49m\n\u001b[1;32m     27\u001b[0m \u001b[38;5;28;01mreturn\u001b[39;00m result\n",
      "File \u001b[0;32m~/workspace/musicgeneration/jammai/functions.py:5\u001b[0m, in \u001b[0;36mto_inst_id\u001b[0;34m(instruments, instrument)\u001b[0m\n\u001b[1;32m      4\u001b[0m \u001b[38;5;28;01mdef\u001b[39;00m \u001b[38;5;21mto_inst_id\u001b[39m(instruments, instrument):\n\u001b[0;32m----> 5\u001b[0m     \u001b[38;5;28;01mreturn\u001b[39;00m \u001b[43minstruments\u001b[49m\u001b[38;5;241;43m.\u001b[39;49m\u001b[43mindex\u001b[49m(reduce_inst(instrument)) \u001b[38;5;241m+\u001b[39m \u001b[38;5;241m1\u001b[39m\n",
      "\u001b[0;31mAttributeError\u001b[0m: 'set' object has no attribute 'index'"
     ]
    }
   ],
   "source": [
    "main_melody_ids = get_domain_from_track_role(df, \"main_melody\")\n",
    "main_melody_num_measures = get_num_measures_array(df, main_melody_ids)\n",
    "main_melody_instruments = get_instrument_array(df, main_melody_ids, instruments)\n",
    "\n",
    "accompaniment_ids = get_domain_from_track_role(df, \"accompaniment\")\n",
    "accompaniment_num_measures = get_num_measures_array(df, accompaniment_ids)\n",
    "accompaniment_instruments = get_instrument_array(df, accompaniment_ids, instruments)\n",
    "\n",
    "riff_ids = get_domain_from_track_role(df, \"riff\")\n",
    "riff_num_measures = get_num_measures_array(df, riff_ids)\n",
    "riff_instruments = get_instrument_array(df, riff_ids, instruments)\n",
    "\n",
    "pad_ids = get_domain_from_track_role(df, \"pad\")\n",
    "pad_num_measures = get_num_measures_array(df, pad_ids)\n",
    "pad_instruments = get_instrument_array(df, pad_ids, instruments)\n",
    "\n",
    "sub_melody_ids = get_domain_from_track_role(df, \"sub_melody\")\n",
    "sub_melody_num_measures = get_num_measures_array(df, sub_melody_ids)\n",
    "sub_melody_instruments = get_instrument_array(df, sub_melody_ids, instruments)\n",
    "\n",
    "bass_ids = get_domain_from_track_role(df, \"bass\")\n",
    "bass_num_measures = get_num_measures_array(df, bass_ids)\n",
    "bass_instruments = get_instrument_array(df, bass_ids, instruments)"
   ]
  }
 ],
 "metadata": {
  "kernelspec": {
   "display_name": "musgen",
   "language": "python",
   "name": "python3"
  },
  "language_info": {
   "codemirror_mode": {
    "name": "ipython",
    "version": 3
   },
   "file_extension": ".py",
   "mimetype": "text/x-python",
   "name": "python",
   "nbconvert_exporter": "python",
   "pygments_lexer": "ipython3",
   "version": "3.9.19"
  }
 },
 "nbformat": 4,
 "nbformat_minor": 2
}
